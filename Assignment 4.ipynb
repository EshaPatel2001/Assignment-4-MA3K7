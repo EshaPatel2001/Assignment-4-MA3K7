{
 "cells": [
  {
   "cell_type": "code",
   "execution_count": 3,
   "metadata": {},
   "outputs": [
    {
     "name": "stdout",
     "output_type": "stream",
     "text": [
      "Using matplotlib backend: Qt5Agg\n"
     ]
    }
   ],
   "source": [
    "import numpy as np\n",
    "from scipy import stats\n",
    "import matplotlib.pyplot as plt\n",
    "from scipy.stats import uniform, norm\n",
    "import seaborn as sns\n",
    "import scipy.linalg as LA\n",
    "import sympy as sp\n",
    "from time import perf_counter as timer\n",
    "import random\n",
    "%matplotlib"
   ]
  },
  {
   "cell_type": "code",
   "execution_count": 23,
   "metadata": {},
   "outputs": [],
   "source": [
    "results = [] # List to store the final answers/ results of the game \n",
    "samplesize = 1000 # to get a probability\n",
    "\n",
    "for _ in range(samplesize):\n",
    "    path_number = 1\n",
    "\n",
    "    for _ in range(24): # flipping the coin 24 times\n",
    "        \n",
    "        addition = random.choice([1, 2]) # Randomly choosing between adding 1 or 2 \n",
    "\n",
    "        path_number += addition # adding our coin number N to our path number \n",
    "    results.append(path_number)\n",
    "\n",
    "# print(results) # - for Testing\n",
    "# realised this doesn't tell me if I have hit 25 on the way or not "
   ]
  },
  {
   "cell_type": "code",
   "execution_count": 25,
   "metadata": {},
   "outputs": [],
   "source": [
    "# Genenrating the game but this time stopping if we hit 25 and if we supass it without hitting 25 after 24 turns we won't ever hit it so can dismiss this\n",
    "\n",
    "results = [] # List to store the final answers/ results of the game \n",
    "samplesize = 100\n",
    "\n",
    "for _ in range(samplesize): \n",
    "    path_number = 1 # Initialize the starting number\n",
    "\n",
    "    while path_number < 25: # Loop until the path number is 25 or higher as that is the number we are trying to obtain\n",
    "        coin_number = random.randint(1, 2)\n",
    "        \n",
    "        path_number += coin_number # Add the coin's number to the path number\n",
    "    \n",
    "    results.append(path_number) # adding our final result to the results array so can find the probability that this is 25\n",
    "\n",
    "#print(results) # - Testing\n"
   ]
  },
  {
   "cell_type": "code",
   "execution_count": 26,
   "metadata": {},
   "outputs": [
    {
     "name": "stdout",
     "output_type": "stream",
     "text": [
      "Modal result is: [25]  with a count of [72]  out of 100 games\n",
      "Giving the probabilility that 25 if hit on our path is 0.72\n"
     ]
    }
   ],
   "source": [
    "# Generating garphs of the results\n",
    "\n",
    "# just to inestigate if I should be expecting a high probability or low \n",
    "mode = stats.mode(results)\n",
    "print(\"Modal result is:\",mode[0],\" with a count of\", mode[1], \" out of\", samplesize, \"games\")\n",
    "\n",
    "\n",
    "frequency_25 = results.count(25)\n",
    "probability_25 = frequency_25/samplesize\n",
    "\n",
    "print(\"Giving the probabilility that 25 if hit on our path is\", probability_25)\n",
    "\n",
    "# Using that if we do not hit 25 means that we landed on 24 and then the coin read 2 to give 26 meaning if we don't get 25 in our sequence our only other possible outcome is 26 so I can make a frequency graph with just these two possible outcomes\n",
    "frequency_26 = results.count(26)\n",
    "\n",
    "heights = [frequency_25, frequency_26] # Heights of the bars\n",
    "\n",
    "labels = ['25', '26'] # Labels for the bars\n",
    "\n",
    "plt.bar(labels, heights, color='teal') # Plotting the bar graph\n",
    "\n",
    "plt.xlabel('Results')\n",
    "plt.ylabel('Frequency')\n",
    "plt.title('Frequency of Results from sample size of 100')\n",
    "\n",
    "# Display the plot\n",
    "plt.show()"
   ]
  },
  {
   "cell_type": "code",
   "execution_count": null,
   "metadata": {},
   "outputs": [],
   "source": [
    "# Genenrating the game but this time stopping if we hit 25 and if we supass it without hitting 25 after 24 turns we won't ever hit it so can dismiss this\n",
    "\n",
    "results = [] # List to store the final answers/ results of the game \n",
    "samplesize = 1000\n",
    "\n",
    "for _ in range(samplesize): \n",
    "    path_number = 1 # Initialize the starting number\n",
    "\n",
    "    while path_number < 25: # Loop until the path number is 25 or higher as that is the number we are trying to obtain\n",
    "        coin_number = random.randint(1, 2)\n",
    "        \n",
    "        path_number += coin_number # Add the coin's number to the path number\n",
    "    \n",
    "    results.append(path_number) # adding our final result to the results array so can find the probability that this is 25\n",
    "\n",
    "#print(results) # - Testing\n"
   ]
  },
  {
   "cell_type": "code",
   "execution_count": null,
   "metadata": {},
   "outputs": [],
   "source": [
    "# Generating garphs of the results\n",
    "\n",
    "# just to inestigate if I should be expecting a high probability or low \n",
    "mode = stats.mode(results)\n",
    "print(\"Modal result is:\",mode[0],\" with a count of\", mode[1], \" out of\", samplesize, \"games\")\n",
    "\n",
    "\n",
    "frequency_25 = results.count(25)\n",
    "probability_25 = frequency_25/samplesize\n",
    "\n",
    "print(\"Giving the probabilility that 25 if hit on our path is\", probability_25)\n",
    "\n",
    "# Using that if we do not hit 25 means that we landed on 24 and then the coin read 2 to give 26 meaning if we don't get 25 in our sequence our only other possible outcome is 26 so I can make a frequency graph with just these two possible outcomes\n",
    "frequency_26 = results.count(26)\n",
    "\n",
    "heights = [frequency_25, frequency_26] # Heights of the bars\n",
    "\n",
    "labels = ['25', '26'] # Labels for the bars\n",
    "\n",
    "plt.bar(labels, heights, color='teal') # Plotting the bar graph\n",
    "\n",
    "plt.xlabel('Results')\n",
    "plt.ylabel('Frequency')\n",
    "plt.title('Frequency of Results from sample size of 1000')\n",
    "\n",
    "# Display the plot\n",
    "plt.show()"
   ]
  },
  {
   "cell_type": "code",
   "execution_count": null,
   "metadata": {},
   "outputs": [],
   "source": [
    "# Genenrating the game but this time stopping if we hit 25 and if we supass it without hitting 25 after 24 turns we won't ever hit it so can dismiss this\n",
    "\n",
    "results = [] # List to store the final answers/ results of the game \n",
    "samplesize = 10000\n",
    "\n",
    "for _ in range(samplesize): \n",
    "    path_number = 1 # Initialize the starting number\n",
    "\n",
    "    while path_number < 25: # Loop until the path number is 25 or higher as that is the number we are trying to obtain\n",
    "        coin_number = random.randint(1, 2)\n",
    "        \n",
    "        path_number += coin_number # Add the coin's number to the path number\n",
    "    \n",
    "    results.append(path_number) # adding our final result to the results array so can find the probability that this is 25\n",
    "\n",
    "#print(results) # - Testing\n"
   ]
  },
  {
   "cell_type": "code",
   "execution_count": null,
   "metadata": {},
   "outputs": [],
   "source": [
    "# Generating garphs of the results\n",
    "\n",
    "# just to inestigate if I should be expecting a high probability or low \n",
    "mode = stats.mode(results)\n",
    "print(\"Modal result is:\",mode[0],\" with a count of\", mode[1], \" out of\", samplesize, \"games\")\n",
    "\n",
    "\n",
    "frequency_25 = results.count(25)\n",
    "probability_25 = frequency_25/samplesize\n",
    "\n",
    "print(\"Giving the probabilility that 25 if hit on our path is\", probability_25)\n",
    "\n",
    "# Using that if we do not hit 25 means that we landed on 24 and then the coin read 2 to give 26 meaning if we don't get 25 in our sequence our only other possible outcome is 26 so I can make a frequency graph with just these two possible outcomes\n",
    "frequency_26 = results.count(26)\n",
    "\n",
    "heights = [frequency_25, frequency_26] # Heights of the bars\n",
    "\n",
    "labels = ['25', '26'] # Labels for the bars\n",
    "\n",
    "plt.bar(labels, heights, color='teal') # Plotting the bar graph\n",
    "\n",
    "plt.xlabel('Results')\n",
    "plt.ylabel('Frequency')\n",
    "plt.title('Frequency of Results from sample size of 10000')\n",
    "\n",
    "# Display the plot\n",
    "plt.show()"
   ]
  },
  {
   "cell_type": "code",
   "execution_count": null,
   "metadata": {},
   "outputs": [],
   "source": [
    "# Genenrating the game but this time stopping if we hit 25 and if we supass it without hitting 25 after 24 turns we won't ever hit it so can dismiss this\n",
    "\n",
    "results = [] # List to store the final answers/ results of the game \n",
    "samplesize = 100000\n",
    "\n",
    "for _ in range(samplesize): \n",
    "    path_number = 1 # Initialize the starting number\n",
    "\n",
    "    while path_number < 25: # Loop until the path number is 25 or higher as that is the number we are trying to obtain\n",
    "        coin_number = random.randint(1, 2)\n",
    "        \n",
    "        path_number += coin_number # Add the coin's number to the path number\n",
    "    \n",
    "    results.append(path_number) # adding our final result to the results array so can find the probability that this is 25\n",
    "\n",
    "#print(results) # - Testing\n"
   ]
  },
  {
   "cell_type": "code",
   "execution_count": 22,
   "metadata": {},
   "outputs": [
    {
     "name": "stdout",
     "output_type": "stream",
     "text": [
      "Modal result is: [25]  with a count of [6637]  out of 10000 games\n",
      "Giving the probabilility that 25 if hit on our path is 0.6637\n"
     ]
    }
   ],
   "source": [
    "# Generating garphs of the results\n",
    "\n",
    "# just to inestigate if I should be expecting a high probability or low \n",
    "mode = stats.mode(results)\n",
    "print(\"Modal result is:\",mode[0],\" with a count of\", mode[1], \" out of\", samplesize, \"games\")\n",
    "\n",
    "\n",
    "frequency_25 = results.count(25)\n",
    "probability_25 = frequency_25/samplesize\n",
    "\n",
    "print(\"Giving the probabilility that 25 if hit on our path is\", probability_25)\n",
    "\n",
    "# Using that if we do not hit 25 means that we landed on 24 and then the coin read 2 to give 26 meaning if we don't get 25 in our sequence our only other possible outcome is 26 so I can make a frequency graph with just these two possible outcomes\n",
    "frequency_26 = results.count(26)\n",
    "\n",
    "heights = [frequency_25, frequency_26] # Heights of the bars\n",
    "\n",
    "labels = ['25', '26'] # Labels for the bars\n",
    "\n",
    "plt.bar(labels, heights, color='teal') # Plotting the bar graph\n",
    "\n",
    "plt.xlabel('Results')\n",
    "plt.ylabel('Frequency')\n",
    "plt.title('Frequency of Results from sample size of 100000')\n",
    "\n",
    "# Display the plot\n",
    "plt.show()"
   ]
  },
  {
   "cell_type": "code",
   "execution_count": 43,
   "metadata": {},
   "outputs": [],
   "source": [
    "# Genenrating the game but this time stopping if we hit 25 and if we supass it without hitting 25 after 24 turns we won't ever hit it so can dismiss this\n",
    "\n",
    "results = [] # List to store the final answers/ results of the game \n",
    "samplesize = 1000000\n",
    "\n",
    "for _ in range(samplesize): \n",
    "    path_number = 1 # Initialize the starting number\n",
    "\n",
    "    while path_number < 25: # Loop until the path number is 25 or higher as that is the number we are trying to obtain\n",
    "        coin_number = random.randint(1, 2)\n",
    "        \n",
    "        path_number += coin_number # Add the coin's number to the path number\n",
    "    \n",
    "    results.append(path_number) # adding our final result to the results array so can find the probability that this is 25\n",
    "\n",
    "#print(results) # - Testing\n"
   ]
  },
  {
   "cell_type": "code",
   "execution_count": 44,
   "metadata": {},
   "outputs": [
    {
     "name": "stdout",
     "output_type": "stream",
     "text": [
      "Modal result is: [25]  with a count of [666246]  out of 1000000 games\n",
      "Giving the probabilility that 25 if hit on our path is 0.666246\n"
     ]
    }
   ],
   "source": [
    "# Generating garphs of the results\n",
    "\n",
    "# just to inestigate if I should be expecting a high probability or low \n",
    "mode = stats.mode(results)\n",
    "print(\"Modal result is:\",mode[0],\" with a count of\", mode[1], \" out of\", samplesize, \"games\")\n",
    "\n",
    "\n",
    "frequency_25 = results.count(25)\n",
    "probability_25 = frequency_25/samplesize\n",
    "\n",
    "print(\"Giving the probabilility that 25 if hit on our path is\", probability_25)\n",
    "\n",
    "# Using that if we do not hit 25 means that we landed on 24 and then the coin read 2 to give 26 meaning if we don't get 25 in our sequence our only other possible outcome is 26 so I can make a frequency graph with just these two possible outcomes\n",
    "frequency_26 = results.count(26)\n",
    "\n",
    "heights = [frequency_25, frequency_26] # Heights of the bars\n",
    "\n",
    "labels = ['25', '26'] # Labels for the bars\n",
    "\n",
    "plt.bar(labels, heights, color='teal') # Plotting the bar graph\n",
    "\n",
    "plt.xlabel('Results')\n",
    "plt.ylabel('Frequency')\n",
    "plt.title('Frequency of Results from sample size of 100000')\n",
    "\n",
    "# Display the plot\n",
    "plt.show()"
   ]
  },
  {
   "cell_type": "code",
   "execution_count": 4,
   "metadata": {},
   "outputs": [
    {
     "name": "stdout",
     "output_type": "stream",
     "text": [
      "[28, 25, 26, 29, 29, 30, 25, 27, 25, 25, 25, 27, 25, 27, 25, 26, 25, 28, 26, 28, 28, 28, 26, 27, 27, 26, 25, 26, 28, 27, 27, 27, 26, 28, 25, 26, 25, 25, 25, 25, 30, 26, 26, 25, 30, 25, 25, 25, 25, 30, 28, 29, 27, 26, 25, 25, 28, 26, 29, 26, 25, 27, 26, 25, 27, 25, 29, 29, 25, 26, 28, 25, 27, 26, 25, 26, 27, 25, 25, 25, 30, 28, 25, 28, 29, 25, 27, 25, 25, 28, 28, 25, 28, 28, 25, 26, 28, 29, 25, 25, 25, 25, 26, 25, 26, 29, 26, 25, 28, 26, 26, 28, 29, 25, 28, 26, 27, 25, 28, 25, 27, 30, 27, 26, 26, 27, 29, 25, 25, 27, 25, 26, 28, 25, 30, 28, 27, 25, 26, 27, 29, 25, 26, 27, 27, 27, 28, 25, 25, 30, 27, 27, 29, 28, 27, 27, 26, 28, 29, 28, 26, 27, 30, 25, 29, 25, 26, 26, 27, 27, 28, 29, 26, 27, 28, 28, 26, 26, 25, 26, 29, 26, 30, 26, 26, 27, 25, 26, 27, 28, 29, 25, 26, 27, 27, 25, 28, 27, 28, 29, 27, 26, 25, 28, 28, 29, 26, 28, 29, 27, 29, 25, 26, 27, 25, 27, 26, 26, 28, 28, 26, 26, 28, 28, 30, 25, 27, 26, 26, 27, 26, 26, 27, 29, 28, 25, 27, 30, 27, 27, 27, 28, 29, 25, 28, 26, 25, 25, 27, 26, 25, 25, 28, 26, 25, 26, 26, 26, 26, 25, 27, 27, 27, 25, 26, 25, 25, 28, 30, 27, 28, 25, 28, 25, 26, 25, 28, 25, 27, 29, 26, 25, 25, 25, 29, 30, 25, 26, 29, 28, 25, 28, 25, 25, 26, 27, 25, 25, 27, 25, 26, 28, 27, 29, 26, 25, 28, 26, 25, 27, 25, 25, 26, 27, 28, 27, 26, 27, 26, 30, 26, 27, 27, 26, 26, 26, 25, 29, 26, 29, 26, 27, 26, 26, 26, 25, 26, 27, 26, 27, 28, 26, 27, 27, 27, 26, 25, 26, 29, 27, 25, 25, 26, 27, 28, 25, 26, 26, 25, 28, 27, 30, 25, 25, 26, 26, 28, 28, 26, 26, 25, 26, 26, 27, 25, 29, 25, 25, 25, 27, 27, 30, 26, 28, 28, 28, 26, 25, 25, 29, 27, 26, 25, 26, 26, 26, 25, 25, 27, 25, 26, 26, 25, 27, 28, 26, 29, 26, 25, 27, 27, 25, 25, 25, 29, 26, 29, 30, 25, 27, 25, 26, 27, 26, 25, 27, 26, 29, 27, 27, 25, 25, 29, 26, 26, 25, 30, 30, 27, 27, 27, 25, 29, 25, 26, 25, 27, 27, 28, 27, 27, 25, 27, 25, 26, 29, 25, 27, 25, 27, 25, 28, 25, 25, 25, 26, 26, 25, 25, 26, 25, 29, 28, 25, 26, 25, 28, 29, 30, 27, 28, 25, 26, 28, 26, 26, 25, 26, 28, 30, 25, 26, 28, 26, 28, 28, 27, 27, 28, 26, 30, 26, 25, 28, 27, 25, 29, 26, 25, 29, 30, 25, 27, 25, 26, 26, 26, 26, 27, 27, 27, 27, 29, 25, 26, 25, 26, 25, 25, 25, 26, 25, 29, 25, 26, 25, 25, 25, 30, 30, 27, 26, 29, 29, 26, 29, 29, 26, 25, 27, 26, 27, 28, 26, 28, 27, 28, 27, 29, 27, 28, 25, 29, 25, 27, 25, 30, 27, 28, 25, 27, 28, 28, 25, 28, 30, 29, 26, 27, 25, 25, 25, 28, 29, 27, 25, 27, 30, 28, 25, 25, 27, 29, 28, 29, 25, 30, 25, 27, 29, 30, 25, 29, 25, 27, 27, 25, 26, 26, 27, 27, 27, 25, 25, 26, 26, 25, 28, 27, 25, 29, 25, 29, 26, 30, 30, 26, 26, 25, 27, 27, 25, 28, 27, 27, 26, 27, 25, 25, 27, 30, 27, 29, 25, 27, 26, 28, 30, 28, 28, 27, 25, 26, 25, 27, 26, 25, 27, 30, 25, 25, 26, 26, 26, 26, 25, 25, 29, 28, 25, 25, 27, 26, 25, 26, 25, 25, 25, 28, 26, 27, 30, 28, 26, 28, 29, 27, 25, 25, 27, 27, 25, 29, 29, 26, 25, 26, 28, 25, 27, 28, 26, 25, 26, 28, 27, 25, 27, 28, 30, 26, 25, 28, 26, 28, 26, 27, 25, 29, 29, 27, 26, 25, 28, 28, 28, 27, 29, 28, 25, 26, 26, 25, 27, 27, 25, 26, 25, 27, 30, 25, 26, 29, 29, 26, 29, 25, 29, 29, 27, 26, 25, 25, 28, 28, 25, 27, 28, 25, 27, 27, 26, 29, 25, 25, 26, 26, 28, 29, 27, 26, 25, 27, 26, 25, 25, 27, 25, 25, 26, 25, 25, 26, 26, 28, 25, 25, 28, 29, 28, 27, 26, 26, 29, 26, 25, 25, 25, 26, 27, 25, 26, 25, 25, 26, 25, 26, 26, 27, 29, 27, 25, 29, 28, 26, 26, 26, 25, 26, 27, 26, 26, 26, 29, 26, 30, 25, 26, 27, 25, 28, 27, 27, 28, 28, 25, 25, 28, 26, 26, 25, 27, 30, 25, 25, 26, 29, 27, 28, 28, 26, 30, 27, 28, 29, 27, 28, 25, 29, 28, 25, 25, 26, 25, 25, 25, 27, 27, 28, 25, 27, 27, 26, 27, 26, 28, 26, 25, 29, 26, 28, 28, 27, 29, 27, 26, 27, 26, 26, 26, 25, 25, 28, 25, 29, 26, 27, 27, 29, 28, 27, 27, 27, 26, 28, 25, 28, 25, 25, 25, 28, 25, 26, 25, 29, 30, 25, 26, 25, 30, 26, 25, 29, 25, 29, 29, 25, 27, 28, 27, 26, 28, 25, 28, 28, 26, 25, 26, 25, 25, 26, 30, 30, 25, 25, 30, 26, 25, 26, 26, 27, 26, 26, 28, 25, 25, 26, 26, 27, 25, 26, 29, 25, 25, 28, 26, 26, 26, 25, 29, 25, 25, 25, 25, 25, 29, 25, 29, 27, 25, 26, 26, 25, 27, 26, 26, 26, 27, 26, 26, 25, 26, 30, 27, 27, 25, 27, 26, 25, 25]\n"
     ]
    }
   ],
   "source": [
    "# Extending by generating the results but with a dice instead of a coin \n",
    "\n",
    "results = [] # List to store the final answers/ results of the game \n",
    "samplesize = 1000\n",
    "\n",
    "for _ in range(samplesize): \n",
    "    path_number = 1 # Initialize the starting number\n",
    "\n",
    "    while path_number < 25: # Loop until the path number is 25 or higher as that is the number we are trying to obtain\n",
    "        dice_number = random.randint(1, 6)\n",
    "        \n",
    "        path_number += dice_number # Add the coin's number to the path number\n",
    "    \n",
    "    results.append(path_number) # adding our final result to the results array so can find the probability that this is 25\n",
    "\n",
    "#print(results) # - Testing"
   ]
  },
  {
   "cell_type": "code",
   "execution_count": 5,
   "metadata": {},
   "outputs": [
    {
     "name": "stdout",
     "output_type": "stream",
     "text": [
      "Modal result is: [25]  with a count of [291]  out of 1000 games\n",
      "Giving the probabilility that 25 if hit on our path is 0.291\n"
     ]
    }
   ],
   "source": [
    "# Generating garphs of the results\n",
    "\n",
    "# just to inestigate if I should be expecting a high probability or low \n",
    "mode = stats.mode(results)\n",
    "print(\"Modal result is:\",mode[0],\" with a count of\", mode[1], \" out of\", samplesize, \"games\")\n",
    "\n",
    "\n",
    "frequency_25 = results.count(25)\n",
    "probability_25 = frequency_25/samplesize\n",
    "\n",
    "print(\"Giving the probabilility that 25 if hit on our path is\", probability_25)\n",
    "\n",
    "frequency_26 = results.count(26)\n",
    "frequency_27 = results.count(27)\n",
    "frequency_28 = results.count(28)\n",
    "frequency_29 = results.count(29)\n",
    "frequency_30 = results.count(30)\n",
    "\n",
    "\n",
    "heights = [frequency_25, frequency_26, frequency_27, frequency_28, frequency_29, frequency_30] # Heights of the bars\n",
    "\n",
    "labels = ['25', '26', '27', '28', '29', '30'] # Labels for the bars\n",
    "\n",
    "plt.bar(labels, heights, color='teal') # Plotting the bar graph\n",
    "\n",
    "plt.xlabel('Results')\n",
    "plt.ylabel('Frequency')\n",
    "plt.title('Frequency of Results from sample size of 100000')\n",
    "\n",
    "# Display the plot\n",
    "plt.show()"
   ]
  },
  {
   "cell_type": "code",
   "execution_count": 27,
   "metadata": {},
   "outputs": [
    {
     "name": "stdout",
     "output_type": "stream",
     "text": [
      "[1.0, 0.664, 0.477, 0.392, 0.344, 0.285, 0.265, 0.202, 0.207, 0.181]\n"
     ]
    }
   ],
   "source": [
    "def game(n, samplesize):\n",
    "    frequency_25 = 0\n",
    "\n",
    "    for _ in range(samplesize):\n",
    "        path_number = 1\n",
    "\n",
    "        while path_number <= 24:\n",
    "            # Generate a random number between 1 and n\n",
    "            spinner_number = random.randint(1, n)\n",
    "\n",
    "            # Add the random number to the current number\n",
    "            path_number += spinner_number\n",
    "\n",
    "        # Check if the final number is 25\n",
    "        if path_number == 25:\n",
    "            frequency_25 += 1\n",
    "\n",
    "    # Calculate the percentage of times the final number was 25\n",
    "    probability_25 = (frequency_25 / samplesize) \n",
    "    return probability_25\n",
    "\n",
    "# Example usage: play the game 100 times with n = 5\n",
    "probability_list = []\n",
    "\n",
    "for n in range(1, 11): # generates the probabilities of getting 25 when numbers from 1 to 10 are used all with equal probability of being picked \n",
    "    probability_25 = game(n, 1000)\n",
    "    probability_list.append(probability_25)\n",
    "print(probability_list)"
   ]
  },
  {
   "cell_type": "code",
   "execution_count": 28,
   "metadata": {},
   "outputs": [],
   "source": [
    "my_n_values = [i for i in range(1, 11)]\n",
    "\n",
    "plt.plot(my_n_values, probability_list)\n",
    "plt.xlabel('numbers <= this can be added with equal probability')\n",
    "plt.ylabel('probability of hitting 25 on path')\n",
    "plt.title('Plot of the probability of hitting 25 of path against possible addition values')\n",
    "\n",
    "plt.show()"
   ]
  },
  {
   "cell_type": "code",
   "execution_count": 29,
   "metadata": {},
   "outputs": [
    {
     "name": "stdout",
     "output_type": "stream",
     "text": [
      "[1.0, 0.683, 0.49, 0.421, 0.33, 0.28, 0.236, 0.242, 0.199, 0.189, 0.176, 0.127, 0.15, 0.137, 0.129, 0.108, 0.128, 0.093, 0.083, 0.094, 0.089, 0.079, 0.08, 0.122, 0.093, 0.095, 0.082, 0.072, 0.071, 0.071, 0.061, 0.067, 0.074, 0.047, 0.068, 0.067, 0.033, 0.048, 0.046, 0.048, 0.046, 0.038, 0.03, 0.045, 0.028, 0.048, 0.038, 0.032, 0.041, 0.023, 0.026, 0.025, 0.028, 0.025, 0.022, 0.037, 0.028, 0.025, 0.032, 0.024, 0.018, 0.011, 0.02, 0.015, 0.029, 0.025, 0.021, 0.013, 0.028, 0.017, 0.016, 0.021, 0.019, 0.01, 0.019, 0.018, 0.02, 0.018, 0.022, 0.016, 0.02, 0.02, 0.011, 0.02, 0.013, 0.013, 0.015, 0.02, 0.011, 0.014, 0.011, 0.016, 0.012, 0.015, 0.021, 0.015, 0.015, 0.014, 0.015, 0.014]\n"
     ]
    }
   ],
   "source": [
    "def game(n, samplesize):\n",
    "    frequency_25 = 0\n",
    "\n",
    "    for _ in range(samplesize):\n",
    "        path_number = 1\n",
    "\n",
    "        while path_number <= 24:\n",
    "            # Generate a random number between 1 and n\n",
    "            spinner_number = random.randint(1, n)\n",
    "\n",
    "            # Add the random number to the current number\n",
    "            path_number += spinner_number\n",
    "\n",
    "        # Check if the final number is 25\n",
    "        if path_number == 25:\n",
    "            frequency_25 += 1\n",
    "\n",
    "    # Calculate the percentage of times the final number was 25\n",
    "    probability_25 = (frequency_25 / samplesize) \n",
    "    return probability_25\n",
    "\n",
    "# Example usage: play the game 100 times with n = 5\n",
    "probability_list = []\n",
    "\n",
    "for n in range(1, 101): # generates the probabilities of getting 25 when numbers from 1 to 10 are used all with equal probability of being picked \n",
    "    probability_25 = game(n, 1000)\n",
    "    probability_list.append(probability_25)\n",
    "print(probability_list)"
   ]
  },
  {
   "cell_type": "code",
   "execution_count": 30,
   "metadata": {},
   "outputs": [],
   "source": [
    "my_n_values = [i for i in range(1, 101)]\n",
    "\n",
    "plt.plot(my_n_values, probability_list)\n",
    "plt.xlabel('numbers <= this can be added with equal probability')\n",
    "plt.ylabel('probability of hitting 25 on path')\n",
    "plt.title('Plot of the probability of hitting 25 of path against possible addition values')\n",
    "\n",
    "plt.show()"
   ]
  },
  {
   "cell_type": "code",
   "execution_count": 39,
   "metadata": {},
   "outputs": [
    {
     "name": "stdout",
     "output_type": "stream",
     "text": [
      "The probability of hitting 25 is now 0.55\n"
     ]
    }
   ],
   "source": [
    "# Testign games if the coin was rigged \n",
    "\n",
    "results = [] # List to store the final answers/ results of the game \n",
    "samplesize = 1000\n",
    "\n",
    "for _ in range(samplesize): \n",
    "    path_number = 1 # Initialize the starting number\n",
    "\n",
    "    while path_number < 25: # Loop until the path number is 25 or higher as that is the number we are trying to obtain\n",
    "        coin_number = random.choices([1, 2], weights=[0.1, 0.9])[0]\n",
    "        \n",
    "        path_number += coin_number # Add the coin's number to the path number\n",
    "    \n",
    "    results.append(path_number) # adding our final result to the results array so can find the probability that this is 25\n",
    "\n",
    "#print(results) # - Testing\n",
    "frequency_25 = results.count(25)\n",
    "probability_25 = frequency_25/samplesize\n",
    "print('The probability of hitting 25 is now', probability_25)"
   ]
  },
  {
   "cell_type": "code",
   "execution_count": null,
   "metadata": {},
   "outputs": [],
   "source": []
  }
 ],
 "metadata": {
  "kernelspec": {
   "display_name": "Python 3",
   "language": "python",
   "name": "python3"
  },
  "language_info": {
   "codemirror_mode": {
    "name": "ipython",
    "version": 3
   },
   "file_extension": ".py",
   "mimetype": "text/x-python",
   "name": "python",
   "nbconvert_exporter": "python",
   "pygments_lexer": "ipython3",
   "version": "3.8.5"
  }
 },
 "nbformat": 4,
 "nbformat_minor": 4
}
